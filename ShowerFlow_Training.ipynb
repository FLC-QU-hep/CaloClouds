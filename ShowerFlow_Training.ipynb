{
 "cells": [
  {
   "cell_type": "code",
   "execution_count": 1,
   "id": "45477060",
   "metadata": {
    "scrolled": true
   },
   "outputs": [
    {
     "data": {
      "text/html": [
       "<style>.container { width:90% !important; }</style>"
      ],
      "text/plain": [
       "<IPython.core.display.HTML object>"
      ]
     },
     "metadata": {},
     "output_type": "display_data"
    }
   ],
   "source": [
    "from IPython.core.display import display, HTML\n",
    "import random\n",
    "display(HTML(\"<style>.container { width:90% !important; }</style>\"))"
   ]
  },
  {
   "cell_type": "code",
   "execution_count": 4,
   "id": "f0891744",
   "metadata": {},
   "outputs": [],
   "source": [
    "import pandas as pd\n",
    "\n",
    "import torch\n",
    "import torch.nn as nn\n",
    "import torch.nn.functional as F\n",
    "import matplotlib.pyplot as plt\n",
    "\n",
    "from tqdm import tqdm\n",
    "\n",
    "from functools import partial\n",
    "\n",
    "import torch\n",
    "\n",
    "from pyro.nn import AutoRegressiveNN, ConditionalAutoRegressiveNN\n",
    "\n",
    "from pyro.distributions import constraints\n",
    "from pyro.distributions.conditional import ConditionalTransformModule\n",
    "from pyro.distributions.torch_transform import TransformModule\n",
    "from pyro.distributions.util import copy_docs_from\n",
    "from pyro.distributions.transforms import SplineCoupling\n",
    "from pyro.distributions.transforms.spline import ConditionalSpline\n",
    "\n",
    "import numpy as np\n",
    "import torch\n",
    "import torch.utils.data\n",
    "from torch import nn, optim\n",
    "from torch.nn import functional as F\n",
    "from torchvision import datasets, transforms\n",
    "from torchvision.utils import save_image\n",
    "\n",
    "from torch.nn.parallel import DistributedDataParallel as DDP\n",
    "from torch.multiprocessing import Process\n",
    "\n",
    "import time\n",
    "import h5py\n",
    "\n",
    "from custom_pyro import ConditionalAffineCouplingTanH\n",
    "\n",
    "from pyro.nn import ConditionalDenseNN, DenseNN, ConditionalAutoRegressiveNN\n",
    "import pyro.distributions as dist\n",
    "import pyro.distributions.transforms as T\n",
    "device = torch.device('cuda:0')"
   ]
  },
  {
   "cell_type": "code",
   "execution_count": 8,
   "id": "b9309668",
   "metadata": {},
   "outputs": [],
   "source": [
    "def compile_HybridTanH_model(num_blocks, num_inputs, num_cond_inputs, device):\n",
    "    # the latent space distribution: choosing a 2-dim Gaussian\n",
    "    base_dist = dist.Normal(torch.zeros(num_inputs).to(device), torch.ones(num_inputs).to(device))\n",
    "\n",
    "    input_dim = num_inputs\n",
    "    count_bins = 8\n",
    "    transforms = []\n",
    "    transforms2 = []\n",
    "      \n",
    "    input_dim = num_inputs\n",
    "    split_dim = num_inputs//2\n",
    "    param_dims1 = [input_dim-split_dim, input_dim-split_dim]\n",
    "    param_dims2 = [input_dim * count_bins, input_dim * count_bins, input_dim * (count_bins - 1), input_dim * count_bins]\n",
    "\n",
    "    torch.manual_seed(42)\n",
    "\n",
    "    for i in range(num_blocks):\n",
    "        \n",
    "        hypernet = ConditionalDenseNN(split_dim, num_cond_inputs, [input_dim*10, input_dim*10], param_dims1)\n",
    "        ctf = ConditionalAffineCouplingTanH(split_dim, hypernet)\n",
    "        transforms2.append(ctf)\n",
    "        transforms.append(ctf)\n",
    "        \n",
    "        perm = torch.randperm(input_dim, dtype=torch.long).to(device)\n",
    "        ff = T.Permute(perm)\n",
    "        transforms.append(ff)\n",
    "\n",
    "        \n",
    "        hypernet = ConditionalDenseNN(split_dim, num_cond_inputs, [input_dim*10, input_dim*10], param_dims1)\n",
    "        ctf = ConditionalAffineCouplingTanH(split_dim, hypernet)\n",
    "        transforms2.append(ctf)\n",
    "        transforms.append(ctf)\n",
    "\n",
    "        perm = torch.randperm(input_dim, dtype=torch.long).to(device)\n",
    "        ff = T.Permute(perm)\n",
    "        transforms.append(ff)\n",
    "\n",
    "        \n",
    "        hypernet = ConditionalDenseNN(split_dim, num_cond_inputs, [input_dim*10, input_dim*10], param_dims1)\n",
    "        ctf = ConditionalAffineCouplingTanH(split_dim, hypernet)\n",
    "        transforms2.append(ctf)\n",
    "        transforms.append(ctf)\n",
    "        \n",
    "        perm = torch.randperm(input_dim, dtype=torch.long).to(device)\n",
    "        ff = T.Permute(perm)\n",
    "        transforms.append(ff)\n",
    "        \n",
    "        \n",
    "        \n",
    "        \n",
    "        perm = torch.randperm(input_dim, dtype=torch.long).to(device)\n",
    "        ff = T.Permute(perm)\n",
    "        transforms.append(ff)\n",
    "        \n",
    "        hypernet = DenseNN(num_cond_inputs, [input_dim*4, input_dim*4], param_dims2)\n",
    "        ctf = T.ConditionalSpline(hypernet, input_dim, count_bins)\n",
    "        transforms2.append(ctf)\n",
    "        transforms.append(ctf)\n",
    "        \n",
    "\n",
    "        \n",
    "\n",
    "        hypernet = ConditionalDenseNN(split_dim, num_cond_inputs, [input_dim*10, input_dim*10], param_dims1)\n",
    "        ctf = ConditionalAffineCouplingTanH(split_dim, hypernet)\n",
    "        transforms2.append(ctf)\n",
    "        transforms.append(ctf)\n",
    "        \n",
    "        perm = torch.randperm(input_dim, dtype=torch.long).to(device)\n",
    "        ff = T.Permute(perm)\n",
    "        transforms.append(ff)\n",
    "\n",
    "        \n",
    "        hypernet = ConditionalDenseNN(split_dim, num_cond_inputs, [input_dim*10, input_dim*10], param_dims1)\n",
    "        ctf = ConditionalAffineCouplingTanH(split_dim, hypernet)\n",
    "        transforms2.append(ctf)\n",
    "        transforms.append(ctf)\n",
    "\n",
    "        perm = torch.randperm(input_dim, dtype=torch.long).to(device)\n",
    "        ff = T.Permute(perm)\n",
    "        transforms.append(ff)\n",
    "\n",
    "        \n",
    "        hypernet = ConditionalDenseNN(split_dim, num_cond_inputs, [input_dim*10, input_dim*10], param_dims1)\n",
    "        ctf = ConditionalAffineCouplingTanH(split_dim, hypernet)\n",
    "        transforms2.append(ctf)\n",
    "        transforms.append(ctf)\n",
    "        \n",
    "        perm = torch.randperm(input_dim, dtype=torch.long).to(device)\n",
    "        ff = T.Permute(perm)\n",
    "        transforms.append(ff)\n",
    "        \n",
    "        \n",
    "        \n",
    "        \n",
    "        \n",
    "    modules = nn.ModuleList(transforms2)\n",
    "\n",
    "    flow_dist = dist.ConditionalTransformedDistribution(base_dist, transforms)\n",
    "\n",
    "    return modules, flow_dist"
   ]
  },
  {
   "cell_type": "code",
   "execution_count": 9,
   "id": "8c3fa523",
   "metadata": {},
   "outputs": [],
   "source": [
    "model, distribution = compile_HybridTanH_model(8, \n",
    "                                           num_inputs=32, ### when 'condioning' on additional Esum, Nhits etc add them on as inputs rather than \n",
    "                                           num_cond_inputs=1, device=device)  # num_cond_inputs"
   ]
  },
  {
   "cell_type": "code",
   "execution_count": 10,
   "id": "1c2f359b",
   "metadata": {},
   "outputs": [],
   "source": [
    "default_params = {\n",
    "    \"batch_size\" : 2048,\n",
    "    \"epochs\" : 138,\n",
    "    \"shuffle\" : True,\n",
    "}"
   ]
  },
  {
   "cell_type": "code",
   "execution_count": 11,
   "id": "aa6fec37",
   "metadata": {},
   "outputs": [],
   "source": [
    "kwargs = {}\n",
    "params = {}\n",
    "for param in default_params.keys():\n",
    "\n",
    "    if param in kwargs.keys():\n",
    "        params[param] = kwargs[param]\n",
    "    else:\n",
    "        params[param] = default_params[param]"
   ]
  },
  {
   "cell_type": "code",
   "execution_count": 12,
   "id": "b897b576",
   "metadata": {},
   "outputs": [],
   "source": [
    "path = './data/calo-clouds/hdf5/high_granular_grid/train/10-90GeV_x36_grid_regular_524k.hdf5'\n",
    "energy = h5py.File(path, 'r')['energy'][:]\n",
    "events = h5py.File(path, 'r')['events'][:]\n",
    "\n",
    "num_points = (events[:][:, -1] > 0).sum(axis=1)\n",
    "visible_energy = (events[:][:, -1]).sum(axis=1)"
   ]
  },
  {
   "cell_type": "code",
   "execution_count": 16,
   "id": "cd85bb04",
   "metadata": {},
   "outputs": [],
   "source": [
    "clusters_per_layer = [((events[:, 1, :] < i+1) & (events[:, 1, :] > i)).sum(axis=1) for i in range(30)]\n",
    "\n",
    "clusters_per_layer = np.vstack(clusters_per_layer)\n",
    "\n",
    "clusters_per_layer = np.moveaxis(clusters_per_layer, 0, -1)"
   ]
  },
  {
   "cell_type": "code",
   "execution_count": 28,
   "id": "49326cd2",
   "metadata": {},
   "outputs": [
    {
     "data": {
      "image/png": "[encoded data removed]",
      "text/plain": [
       "<Figure size 1000x1000 with 1 Axes>"
      ]
     },
     "metadata": {},
     "output_type": "display_data"
    }
   ],
   "source": [
    "plt.figure(figsize=(10,10))\n",
    "for i in range(500000, 500005):\n",
    "    plt.hist(np.arange(30), weights=clusters_per_layer[i, :], label=f'energy: {energy[i]}', histtype='step', bins=30)\n",
    "plt.legend()\n",
    "plt.show()"
   ]
  },
  {
   "cell_type": "code",
   "execution_count": 29,
   "id": "4fe553bf",
   "metadata": {},
   "outputs": [],
   "source": [
    "clusters_per_layer = clusters_per_layer / 400\n",
    "\n",
    "df = pd.DataFrame([])\n",
    "df['energy'] = energy[:].reshape(-1)\n",
    "df['num_points'] = num_points / 5000\n",
    "df['visible_energy'] = visible_energy * 1000 / 2.5 / 1000\n",
    "\n",
    "df['clusters_per_layer'] = clusters_per_layer.tolist()"
   ]
  },
  {
   "cell_type": "code",
   "execution_count": 32,
   "id": "7ecfd687",
   "metadata": {},
   "outputs": [
    {
     "data": {
      "text/html": [
       "<div>\n",
       "<style scoped>\n",
       "    .dataframe tbody tr th:only-of-type {\n",
       "        vertical-align: middle;\n",
       "    }\n",
       "\n",
       "    .dataframe tbody tr th {\n",
       "        vertical-align: top;\n",
       "    }\n",
       "\n",
       "    .dataframe thead th {\n",
       "        text-align: right;\n",
       "    }\n",
       "</style>\n",
       "<table border=\"1\" class=\"dataframe\">\n",
       "  <thead>\n",
       "    <tr style=\"text-align: right;\">\n",
       "      <th></th>\n",
       "      <th>energy</th>\n",
       "      <th>num_points</th>\n",
       "      <th>visible_energy</th>\n",
       "      <th>clusters_per_layer</th>\n",
       "    </tr>\n",
       "  </thead>\n",
       "  <tbody>\n",
       "    <tr>\n",
       "      <th>0</th>\n",
       "      <td>15.620060</td>\n",
       "      <td>0.0326</td>\n",
       "      <td>0.018918</td>\n",
       "      <td>[0.0, 0.0, 0.0, 0.0075, 0.0075, 0.01, 0.01, 0....</td>\n",
       "    </tr>\n",
       "    <tr>\n",
       "      <th>1</th>\n",
       "      <td>41.926819</td>\n",
       "      <td>0.0472</td>\n",
       "      <td>0.039103</td>\n",
       "      <td>[0.0125, 0.02, 0.0075, 0.02, 0.015, 0.035, 0.0...</td>\n",
       "    </tr>\n",
       "    <tr>\n",
       "      <th>2</th>\n",
       "      <td>44.005219</td>\n",
       "      <td>0.0524</td>\n",
       "      <td>0.028260</td>\n",
       "      <td>[0.0, 0.005, 0.0125, 0.025, 0.02, 0.01, 0.0225...</td>\n",
       "    </tr>\n",
       "    <tr>\n",
       "      <th>3</th>\n",
       "      <td>10.890450</td>\n",
       "      <td>0.0586</td>\n",
       "      <td>0.042493</td>\n",
       "      <td>[0.005, 0.01, 0.07, 0.0475, 0.03, 0.0325, 0.05...</td>\n",
       "    </tr>\n",
       "    <tr>\n",
       "      <th>4</th>\n",
       "      <td>41.575275</td>\n",
       "      <td>0.0620</td>\n",
       "      <td>0.034748</td>\n",
       "      <td>[0.01, 0.0075, 0.03, 0.02, 0.0275, 0.025, 0.05...</td>\n",
       "    </tr>\n",
       "    <tr>\n",
       "      <th>...</th>\n",
       "      <td>...</td>\n",
       "      <td>...</td>\n",
       "      <td>...</td>\n",
       "      <td>...</td>\n",
       "    </tr>\n",
       "    <tr>\n",
       "      <th>524954</th>\n",
       "      <td>89.005737</td>\n",
       "      <td>1.1364</td>\n",
       "      <td>0.841660</td>\n",
       "      <td>[0.025, 0.005, 0.095, 0.06, 0.19, 0.245, 0.355...</td>\n",
       "    </tr>\n",
       "    <tr>\n",
       "      <th>524955</th>\n",
       "      <td>89.381836</td>\n",
       "      <td>1.1364</td>\n",
       "      <td>0.834334</td>\n",
       "      <td>[0.0025, 0.0125, 0.0725, 0.095, 0.22, 0.4, 0.5...</td>\n",
       "    </tr>\n",
       "    <tr>\n",
       "      <th>524956</th>\n",
       "      <td>88.777878</td>\n",
       "      <td>1.1378</td>\n",
       "      <td>0.865821</td>\n",
       "      <td>[0.0, 0.025, 0.075, 0.06, 0.21, 0.3575, 0.405,...</td>\n",
       "    </tr>\n",
       "    <tr>\n",
       "      <th>524957</th>\n",
       "      <td>88.592522</td>\n",
       "      <td>1.1378</td>\n",
       "      <td>0.817879</td>\n",
       "      <td>[0.0025, 0.025, 0.0375, 0.095, 0.2175, 0.2775,...</td>\n",
       "    </tr>\n",
       "    <tr>\n",
       "      <th>524958</th>\n",
       "      <td>89.636475</td>\n",
       "      <td>1.1400</td>\n",
       "      <td>0.864667</td>\n",
       "      <td>[0.0025, 0.02, 0.0575, 0.0675, 0.2225, 0.29, 0...</td>\n",
       "    </tr>\n",
       "  </tbody>\n",
       "</table>\n",
       "<p>524959 rows × 4 columns</p>\n",
       "</div>"
      ],
      "text/plain": [
       "           energy  num_points  visible_energy   \n",
       "0       15.620060      0.0326        0.018918  \\\n",
       "1       41.926819      0.0472        0.039103   \n",
       "2       44.005219      0.0524        0.028260   \n",
       "3       10.890450      0.0586        0.042493   \n",
       "4       41.575275      0.0620        0.034748   \n",
       "...           ...         ...             ...   \n",
       "524954  89.005737      1.1364        0.841660   \n",
       "524955  89.381836      1.1364        0.834334   \n",
       "524956  88.777878      1.1378        0.865821   \n",
       "524957  88.592522      1.1378        0.817879   \n",
       "524958  89.636475      1.1400        0.864667   \n",
       "\n",
       "                                       clusters_per_layer  \n",
       "0       [0.0, 0.0, 0.0, 0.0075, 0.0075, 0.01, 0.01, 0....  \n",
       "1       [0.0125, 0.02, 0.0075, 0.02, 0.015, 0.035, 0.0...  \n",
       "2       [0.0, 0.005, 0.0125, 0.025, 0.02, 0.01, 0.0225...  \n",
       "3       [0.005, 0.01, 0.07, 0.0475, 0.03, 0.0325, 0.05...  \n",
       "4       [0.01, 0.0075, 0.03, 0.02, 0.0275, 0.025, 0.05...  \n",
       "...                                                   ...  \n",
       "524954  [0.025, 0.005, 0.095, 0.06, 0.19, 0.245, 0.355...  \n",
       "524955  [0.0025, 0.0125, 0.0725, 0.095, 0.22, 0.4, 0.5...  \n",
       "524956  [0.0, 0.025, 0.075, 0.06, 0.21, 0.3575, 0.405,...  \n",
       "524957  [0.0025, 0.025, 0.0375, 0.095, 0.2175, 0.2775,...  \n",
       "524958  [0.0025, 0.02, 0.0575, 0.0675, 0.2225, 0.29, 0...  \n",
       "\n",
       "[524959 rows x 4 columns]"
      ]
     },
     "execution_count": 32,
     "metadata": {},
     "output_type": "execute_result"
    }
   ],
   "source": [
    "df"
   ]
  },
  {
   "cell_type": "code",
   "execution_count": 33,
   "id": "9b28ce3a",
   "metadata": {},
   "outputs": [],
   "source": [
    "dataset = torch.utils.data.TensorDataset(\n",
    "    torch.tensor(df.energy.values), \n",
    "    torch.tensor(df.num_points.values), \n",
    "    torch.tensor(df.visible_energy.values),\n",
    "    torch.tensor(df.clusters_per_layer)\n",
    "    )"
   ]
  },
  {
   "cell_type": "code",
   "execution_count": 34,
   "id": "79f11db1",
   "metadata": {},
   "outputs": [],
   "source": [
    "train_loader = torch.utils.data.DataLoader(dataset, batch_size=params[\"batch_size\"], shuffle=params[\"shuffle\"], pin_memory=True)\n"
   ]
  },
  {
   "cell_type": "code",
   "execution_count": 35,
   "id": "a5dd3809",
   "metadata": {},
   "outputs": [],
   "source": [
    "num_blocks = 10"
   ]
  },
  {
   "cell_type": "code",
   "execution_count": 36,
   "id": "6e58474c",
   "metadata": {},
   "outputs": [],
   "source": [
    "batch = next(iter(train_loader))"
   ]
  },
  {
   "cell_type": "code",
   "execution_count": 37,
   "id": "1075e863",
   "metadata": {},
   "outputs": [
    {
     "name": "stdout",
     "output_type": "stream",
     "text": [
      "torch.Size([2048])\n",
      "torch.Size([2048])\n",
      "torch.Size([2048])\n",
      "torch.Size([2048, 30])\n"
     ]
    }
   ],
   "source": [
    "for item in batch:\n",
    "    print(item.shape)"
   ]
  },
  {
   "cell_type": "code",
   "execution_count": 42,
   "id": "3685f050",
   "metadata": {},
   "outputs": [
    {
     "name": "stderr",
     "output_type": "stream",
     "text": [
      "100%|██████████| 257/257 [00:54<00:00,  4.69it/s]\n"
     ]
    },
    {
     "name": "stdout",
     "output_type": "stream",
     "text": [
      "131 -66.73483276367188\n"
     ]
    },
    {
     "name": "stderr",
     "output_type": "stream",
     "text": [
      "100%|██████████| 257/257 [00:54<00:00,  4.75it/s]\n"
     ]
    },
    {
     "name": "stdout",
     "output_type": "stream",
     "text": [
      "132 -68.53651428222656\n"
     ]
    },
    {
     "name": "stderr",
     "output_type": "stream",
     "text": [
      "100%|██████████| 257/257 [00:53<00:00,  4.79it/s]\n"
     ]
    },
    {
     "name": "stdout",
     "output_type": "stream",
     "text": [
      "133 -69.5415267944336\n"
     ]
    },
    {
     "name": "stderr",
     "output_type": "stream",
     "text": [
      "100%|██████████| 257/257 [00:57<00:00,  4.48it/s]\n"
     ]
    },
    {
     "name": "stdout",
     "output_type": "stream",
     "text": [
      "134 -70.17488098144531\n"
     ]
    },
    {
     "name": "stderr",
     "output_type": "stream",
     "text": [
      "100%|██████████| 257/257 [00:58<00:00,  4.39it/s]\n"
     ]
    },
    {
     "name": "stdout",
     "output_type": "stream",
     "text": [
      "135 -70.1836929321289\n"
     ]
    },
    {
     "name": "stderr",
     "output_type": "stream",
     "text": [
      "100%|██████████| 257/257 [00:53<00:00,  4.80it/s]\n"
     ]
    },
    {
     "name": "stdout",
     "output_type": "stream",
     "text": [
      "136 -68.305908203125\n"
     ]
    },
    {
     "name": "stderr",
     "output_type": "stream",
     "text": [
      "100%|██████████| 257/257 [00:56<00:00,  4.55it/s]\n"
     ]
    },
    {
     "name": "stdout",
     "output_type": "stream",
     "text": [
      "137 -70.32646179199219\n"
     ]
    },
    {
     "name": "stderr",
     "output_type": "stream",
     "text": [
      "100%|██████████| 257/257 [00:54<00:00,  4.74it/s]"
     ]
    },
    {
     "name": "stdout",
     "output_type": "stream",
     "text": [
      "138 -70.79116821289062\n"
     ]
    },
    {
     "name": "stderr",
     "output_type": "stream",
     "text": [
      "\n"
     ]
    }
   ],
   "source": [
    "lr = 5e-5\n",
    "                   \n",
    "model.to(device)\n",
    "optimizer = optim.Adam(model.parameters(), lr=lr)\n",
    "\n",
    "model.train()\n",
    "                   \n",
    "\n",
    "torch.manual_seed(41)\n",
    "\n",
    "losses = []\n",
    "for epoch in range(1, params[\"epochs\"]+1):\n",
    "    input_list = []\n",
    "    for batch_idx, (energy, num_points, visible_energy, clusters_per_layer) in enumerate(tqdm(train_loader)):\n",
    "\n",
    "        E_true = energy.view(-1, 1).to(device).float()\n",
    "        energy_sum = visible_energy.view(-1,1).to(device).float()\n",
    "        num_points = num_points.view(-1, 1).to(device).float()\n",
    "        clusters_per_layer = clusters_per_layer.to(device).float()\n",
    "   \n",
    "        \n",
    "        # normalise conditional labels\n",
    "        E_true = (E_true/100).float()\n",
    "\n",
    "        input_data = torch.cat((energy_sum, num_points, clusters_per_layer), 1)   #### input data structure required for network with additional features in latent space (e.g. Esum)\n",
    "\n",
    "        optimizer.zero_grad()\n",
    "\n",
    "        # try to add context for conditioning by concatenating \n",
    "        context = E_true\n",
    "        \n",
    "        if np.any(np.isnan(input_data.clone().detach().cpu().numpy())) == True:\n",
    "            print('Nans in the training data!')\n",
    "            \n",
    "        nll = -distribution.condition(context).log_prob(input_data)\n",
    "        loss = nll.mean()\n",
    "        loss.backward()\n",
    "\n",
    "        optimizer.step() \n",
    "\n",
    "        distribution.clear_cache()\n",
    "        \n",
    "        input_list.append(input_data.detach().cpu().numpy())\n",
    "\n",
    "    print(epoch, loss.item())\n",
    "    losses.append(loss.item())\n",
    "    #############################\n",
    "    # Log to COMET ML\n",
    "    #############################\n",
    "\n",
    "    if epoch%10 == 0:\n",
    "        torch.save(\n",
    "            {'model': model.state_dict()}, \n",
    "            f'ShowerFlow_{epoch}.pth'\n",
    "        )\n",
    "\n"
   ]
  },
  {
   "cell_type": "code",
   "execution_count": null,
   "id": "0885843e",
   "metadata": {},
   "outputs": [],
   "source": []
  }
 ],
 "metadata": {
  "kernelspec": {
   "display_name": "V100-torch",
   "language": "python",
   "name": "v100-torch"
  },
  "language_info": {
   "codemirror_mode": {
    "name": "ipython",
    "version": 3
   },
   "file_extension": ".py",
   "mimetype": "text/x-python",
   "name": "python",
   "nbconvert_exporter": "python",
   "pygments_lexer": "ipython3",
   "version": "3.8.13"
  }
 },
 "nbformat": 4,
 "nbformat_minor": 5
}
